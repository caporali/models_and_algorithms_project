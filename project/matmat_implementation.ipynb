{
 "cells": [
  {
   "cell_type": "markdown",
   "metadata": {},
   "source": [
    "## 1. Estimation of $\\boldsymbol{J}$"
   ]
  },
  {
   "attachments": {},
   "cell_type": "markdown",
   "metadata": {},
   "source": [
    "### Code "
   ]
  },
  {
   "cell_type": "code",
   "execution_count": 1,
   "metadata": {},
   "outputs": [],
   "source": [
    "# packages\n",
    "using ProgressMeter, Distributions, DelimitedFiles, Random, LaTeXStrings, Plots"
   ]
  },
  {
   "cell_type": "code",
   "execution_count": 2,
   "metadata": {},
   "outputs": [],
   "source": [
    "# remove randomization by setting a seed\n",
    "Random.seed!(1);"
   ]
  },
  {
   "cell_type": "code",
   "execution_count": 3,
   "metadata": {},
   "outputs": [],
   "source": [
    "function compute_stat(data::Matrix{Int64}, q::Int)\n",
    "\tm = size(data, 1)\n",
    "\tn = size(data, 2)\n",
    "\tδ = (zeros(q, q), ) .* ones(n, n)\n",
    "\n",
    "\tfor i in 1:n, j in 1:n, a in 1:q, b in 1:q\n",
    "\t\tfor s in 1:m\n",
    "\t\t\tδ[i, j][a, b] += (data[s, i] == a) * (data[s, j] == b)\n",
    "\t\tend\n",
    "\tend\n",
    "\tδ /= m\n",
    "\n",
    "\treturn δ\n",
    "end;"
   ]
  },
  {
   "cell_type": "code",
   "execution_count": 4,
   "metadata": {},
   "outputs": [],
   "source": [
    "function maxabs_matmat(m::Matrix{Matrix{Float64}})\n",
    "\tmax = -1\n",
    "\tfor r in 1:size(m, 1), c in 1:size(m, 2)\n",
    "\t\tif maximum(abs.(m[r, c])) > max\n",
    "\t\t\tmax = maximum(abs.(m[r, c]))\n",
    "\t\tend\n",
    "\tend\n",
    "\n",
    "\treturn max\n",
    "end;"
   ]
  },
  {
   "cell_type": "code",
   "execution_count": 5,
   "metadata": {},
   "outputs": [],
   "source": [
    "function metropolis_hastings_step(x::Vector{Int64}, J::Matrix{Matrix{Float64}})\n",
    "\tn = length(x)\n",
    "\n",
    "\t# 1. draw uniformly an index and a new configuration\n",
    "\tk = rand(1:n)\n",
    "\tz = rand(1:q)\n",
    "\t\n",
    "\t# 2. compute the acceptance ratio\n",
    "\ta = 0\n",
    "\txk_new = mod1(x[k] + z, q)\n",
    "\tfor i in 1:n\n",
    "\t\tif i != k\n",
    "\t\t\ta += J[i, k][x[i], xk_new] - J[i, k][x[i], x[k]]\n",
    "\t\tend\n",
    "\tend\n",
    "\ta *= 2\n",
    "\ta += J[k, k][xk_new, xk_new] - J[k, k][x[k], x[k]]\n",
    "\ta = exp(a)\n",
    "\ta = min(1, a)\n",
    "\n",
    "\t# 3/4. decide whether to accept or not the new configuration\n",
    "\tif rand() < a\n",
    "\t\tx[k] = xk_new\n",
    "\tend\n",
    "\t\n",
    "\treturn x\n",
    "end;"
   ]
  },
  {
   "cell_type": "code",
   "execution_count": 6,
   "metadata": {},
   "outputs": [],
   "source": [
    "function boltzmann_ml(δ_data::Matrix{Matrix{Float64}}, J::Matrix{Matrix{Float64}}, \n",
    "\t\t\t\t\tt_burnin::Int64, t_tot::Int64, t_wait::Int64, t_max::Int64;\n",
    "\t\t\t\t\tλ::Float64 = 0.1, ε_max::Float64 = 1e-2, verbose::Bool = true)\n",
    "\tn = size(δ_data, 1)\n",
    "\tq = size(δ_data[1, 1], 1)\n",
    "\t\n",
    "\tx = sample(collect(1:q), n, replace = true)\n",
    "\tx_model = zeros(Int64, t_tot, n)\n",
    "\tδ_model = (zeros(q, q), ) .* ones(n, n)\n",
    "\n",
    "\tt = 0\n",
    "\tε = 1\n",
    "\tProgressMeter.ijulia_behavior(:clear)\n",
    "\tp = ProgressUnknown(\"learning...\", spinner = true)\n",
    "\n",
    "\twhile t <= t_max && ε > ε_max\n",
    "\t\tt += 1\n",
    "\t\tfill!(x_model, 0)\n",
    "\t\tx = sample(collect(1:q), n, replace = true)\n",
    "\n",
    "\t\tfor s in 1:t_burnin\n",
    "\t\t\tx = metropolis_hastings_step(x, J)\n",
    "\t\tend\n",
    "\t\tfor s in 1:t_tot\n",
    "\t\t\tfor r in 1:t_wait\n",
    "\t\t\t\tx = metropolis_hastings_step(x, J)\n",
    "\t\t\tend\n",
    "\t\t\tx_model[s, :] = x\n",
    "\t\tend\t\t\n",
    "\t\tδ_model = compute_stat(x_model, q)\n",
    "\t\t\n",
    "\t\tJ = J + λ .* (δ_data - δ_model)\n",
    "\t\n",
    "\t\tε = maxabs_matmat(δ_data - δ_model)\n",
    "\n",
    "\t\tif mod(t, t_max ÷ 10) == 0 && verbose\n",
    "\t\t\tProgressMeter.next!(p; showvalues = [(:t, t), (:ε, ε)], spinner = \"⠋⠙⠹⠸⠼⠴⠦⠧⠇⠏\")\n",
    "\t\tend\n",
    "\tend\n",
    "\n",
    "\tProgressMeter.finish!(p)\n",
    "\n",
    "\treturn δ_model, J, x_model, t, ε\n",
    "end;"
   ]
  },
  {
   "cell_type": "code",
   "execution_count": 7,
   "metadata": {},
   "outputs": [],
   "source": [
    "# parameters\n",
    "n = 5\n",
    "q = 4\n",
    "\n",
    "# the estimation is also acceptable by imposing\n",
    "# t_burnin = 250\n",
    "# t_tot = 250\n",
    "# t_wait = 100\n",
    "# t_max = 500\n",
    "\n",
    "t_burnin = 500\n",
    "t_tot = 500\n",
    "t_wait = 100\n",
    "t_max = 500;"
   ]
  },
  {
   "cell_type": "code",
   "execution_count": 8,
   "metadata": {},
   "outputs": [],
   "source": [
    "# δ_data\n",
    "x_data = readdlm(\"data.dat\", Int)\n",
    "δ_data = compute_stat(x_data, q);"
   ]
  },
  {
   "cell_type": "code",
   "execution_count": 9,
   "metadata": {},
   "outputs": [],
   "source": [
    "# boltzmann ml scheme\n",
    "J = (zeros(q, q), ) .* ones(n, n)\n",
    "δ_model, J, x_model, t, ε = boltzmann_ml(δ_data, J, t_burnin, t_tot, t_wait, t_max; verbose = false);"
   ]
  },
  {
   "cell_type": "markdown",
   "metadata": {},
   "source": [
    "## 2. Computation of $\\mathcal{F}_{i, j}$"
   ]
  },
  {
   "cell_type": "markdown",
   "metadata": {},
   "source": [
    "### Code"
   ]
  },
  {
   "cell_type": "code",
   "execution_count": 10,
   "metadata": {},
   "outputs": [],
   "source": [
    "# frobenius norm function\n",
    "function frobenius_norm(m::Matrix{Float64})\n",
    "\tf = 0\n",
    "\tfor r in 1:size(m, 1), c in 1:size(m, 2)\n",
    "\t\tf += m[r, c]^2\n",
    "\tend\n",
    "\tf = sqrt(f)\n",
    "end;"
   ]
  },
  {
   "cell_type": "code",
   "execution_count": 11,
   "metadata": {},
   "outputs": [
    {
     "data": {
      "text/plain": [
       "5×5 Matrix{Float64}:\n",
       " 0.0218726  0.730774   0.840845   0.174598   0.110648\n",
       " 0.730774   0.0177385  0.131686   0.807782   0.119461\n",
       " 0.840845   0.131686   0.0259589  0.0955901  0.897827\n",
       " 0.174598   0.807782   0.0955901  0.0285117  0.918476\n",
       " 0.110648   0.119461   0.897827   0.918476   0.0127939"
      ]
     },
     "metadata": {},
     "output_type": "display_data"
    },
    {
     "data": {
      "text/plain": [
       "5×2 Matrix{Int64}:\n",
       " 2  3\n",
       " 1  4\n",
       " 1  5\n",
       " 2  5\n",
       " 3  4"
      ]
     },
     "metadata": {},
     "output_type": "display_data"
    }
   ],
   "source": [
    "# computation of f_{i, j} for all i, j\n",
    "f = zeros(n, n)\n",
    "for i in 1:n, j in 1:n\n",
    "\tf[i, j] = frobenius_norm(J[i, j])\n",
    "end\n",
    "display(f)\n",
    "\n",
    "neighbors = [Int64[], Int64[], Int64[], Int64[], Int64[]]\n",
    "for i in 1:n, j in 1:n\n",
    "\tif (f[i, j] > 0.2)\n",
    "\t\tappend!(neighbors[i], [j])\n",
    "\tend\n",
    "end\n",
    "neighbors = mapreduce(permutedims, vcat, neighbors)\n",
    "display(neighbors)"
   ]
  },
  {
   "cell_type": "markdown",
   "metadata": {},
   "source": [
    "## 3. Bayesian approach"
   ]
  },
  {
   "cell_type": "markdown",
   "metadata": {},
   "source": [
    "### Code"
   ]
  },
  {
   "cell_type": "code",
   "execution_count": 12,
   "metadata": {},
   "outputs": [],
   "source": [
    "function boltzmann_ml_bayes(δ_data::Matrix{Matrix{Float64}}, J::Matrix{Matrix{Float64}},\n",
    "\t\t\t\t\tm::Int64, λ::Float64, t_burnin::Int64, t_tot::Int64, t_wait::Int64, t_max::Int64;\n",
    "\t\t\t\t\tμ::Float64 = 0.1, ε_max::Float64 = 1e-2, verbose::Bool = true)\n",
    "\tn = size(δ_data, 1)\n",
    "\tq = size(δ_data[1, 1], 1)\n",
    "\n",
    "\tbayes_term = (zeros(q, q), ) .* ones(n, n)\n",
    "\t\n",
    "\tx = sample(collect(1:q), n, replace = true)\n",
    "\tx_model = zeros(Int64, t_tot, n)\n",
    "\tδ_model = (zeros(q, q), ) .* ones(n, n)\n",
    "\n",
    "\tt = 0\n",
    "\tε = 1\n",
    "\tProgressMeter.ijulia_behavior(:clear)\n",
    "\tp = ProgressUnknown(\"learning...\", spinner = true)\n",
    "\n",
    "\twhile t <= t_max && ε > ε_max\n",
    "\t\tt += 1\n",
    "\t\tfill!(x_model, 0)\n",
    "\t\tx = sample(collect(1:q), n, replace = true)\n",
    "\n",
    "\t\tfor s in 1:t_burnin\n",
    "\t\t\tx = metropolis_hastings_step(x, J)\n",
    "\t\tend\n",
    "\t\tfor s in 1:t_tot\n",
    "\t\t\tfor r in 1:t_wait\n",
    "\t\t\t\tx = metropolis_hastings_step(x, J)\n",
    "\t\t\tend\n",
    "\t\t\tx_model[s, :] = x\n",
    "\t\tend\t\t\n",
    "\t\tδ_model = compute_stat(x_model, q)\n",
    "\n",
    "\t\tfor i in 1:n, j in 1:n, a in 1:q, b in 1:q\n",
    "\t\t\tbayes_term[i, j][a, b] = 1 / m * λ * sign(J[i, j][a, b])\n",
    "\t\tend\n",
    "\n",
    "\t\tdirection_bayes = δ_data - δ_model - bayes_term\n",
    "\t\tJ = J + μ .* direction_bayes\n",
    "\t\n",
    "\t\tε = maxabs_matmat(direction_bayes)\n",
    "\n",
    "\t\tif mod(t, t_max ÷ 10) == 0 && verbose\n",
    "\t\t\tProgressMeter.next!(p; showvalues = [(:t, t), (:ε, ε)], spinner = \"⠋⠙⠹⠸⠼⠴⠦⠧⠇⠏\")\n",
    "\t\tend\n",
    "\tend\n",
    "\n",
    "\tProgressMeter.finish!(p)\n",
    "\n",
    "\treturn δ_model, J, x_model, t, ε\n",
    "end;"
   ]
  },
  {
   "cell_type": "code",
   "execution_count": 13,
   "metadata": {},
   "outputs": [],
   "source": [
    "# boltzmann ml scheme\n",
    "m = size(x_data, 1)\n",
    "λ = 0.1\n",
    "J_bayes = (zeros(q, q), ) .* ones(n, n)\n",
    "δ_model_bayes, J_bayes, t_bayes, ε_bayes = boltzmann_ml_bayes(δ_data, J_bayes, m, λ, t_burnin, t_tot, t_wait, t_max; verbose = false);"
   ]
  },
  {
   "cell_type": "code",
   "execution_count": 14,
   "metadata": {},
   "outputs": [
    {
     "data": {
      "text/plain": [
       "5×5 Matrix{Float64}:\n",
       " 0.0187156  0.735065   0.843545   0.163826   0.124892\n",
       " 0.735065   0.0174195  0.122166   0.785267   0.0903401\n",
       " 0.843545   0.122166   0.0108438  0.100471   0.895399\n",
       " 0.163826   0.785267   0.100471   0.0321492  0.907771\n",
       " 0.124892   0.0903401  0.895399   0.907771   0.0212673"
      ]
     },
     "metadata": {},
     "output_type": "display_data"
    },
    {
     "data": {
      "text/plain": [
       "5×2 Matrix{Int64}:\n",
       " 2  3\n",
       " 1  4\n",
       " 1  5\n",
       " 2  5\n",
       " 3  4"
      ]
     },
     "metadata": {},
     "output_type": "display_data"
    }
   ],
   "source": [
    "# replication of point 2 with J_bayes\n",
    "f_bayes = zeros(n, n)\n",
    "for i in 1:n, j in 1:n\n",
    "\tf_bayes[i, j] = frobenius_norm(J_bayes[i, j])\n",
    "end\n",
    "display(f_bayes)\n",
    "\n",
    "neighbors_bayes = [Int64[], Int64[], Int64[], Int64[], Int64[]]\n",
    "for i in 1:n, j in 1:n\n",
    "\tif (f_bayes[i, j] > 0.2)\n",
    "\t\tappend!(neighbors_bayes[i], [j])\n",
    "\tend\n",
    "end\n",
    "neighbors_bayes = mapreduce(permutedims, vcat, neighbors_bayes)\n",
    "display(neighbors_bayes)"
   ]
  }
 ],
 "metadata": {
  "kernelspec": {
   "display_name": "Julia 1.8.5",
   "language": "julia",
   "name": "julia-1.8"
  },
  "language_info": {
   "file_extension": ".jl",
   "mimetype": "application/julia",
   "name": "julia",
   "version": "1.8.5"
  },
  "orig_nbformat": 4
 },
 "nbformat": 4,
 "nbformat_minor": 2
}
