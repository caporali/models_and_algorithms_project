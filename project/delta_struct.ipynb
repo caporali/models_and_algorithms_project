{
 "cells": [
  {
   "cell_type": "code",
   "execution_count": 2,
   "metadata": {},
   "outputs": [],
   "source": [
    "struct Delta\n",
    "    n::Int\n",
    "    q::Int\n",
    "    avg::Vector{Vector{Float64}}\n",
    "end"
   ]
  },
  {
   "cell_type": "code",
   "execution_count": 3,
   "metadata": {},
   "outputs": [
    {
     "data": {
      "text/plain": [
       "delta"
      ]
     },
     "metadata": {},
     "output_type": "display_data"
    }
   ],
   "source": [
    "function Delta(n::Int, q::Int) # Initializes correct size delta\n",
    "    Delta(n,q,[zeros(Float64, q*q) for _ in 1:n*n])\n",
    "end"
   ]
  },
  {
   "cell_type": "code",
   "execution_count": 4,
   "metadata": {},
   "outputs": [
    {
     "data": {
      "text/plain": [
       "cart2lin (generic function with 1 method)"
      ]
     },
     "metadata": {},
     "output_type": "display_data"
    }
   ],
   "source": [
    "function cart2lin(t::Tuple{Int,Int}, dims::Int) # Cartesian to linear indices conversion\n",
    "    x,y = t[2], t[1]\n",
    "    @assert 1 ≤ x ≤ dims && 1 ≤ y ≤ dims\n",
    "    return y + dims*(x-1)\n",
    "end"
   ]
  },
  {
   "cell_type": "code",
   "execution_count": null,
   "metadata": {},
   "outputs": [],
   "source": [
    "function Delta_update!(δ::Delta,i::Int,j::Int,a::Int,b::Int) # Updates the delta structure when the condition is verified\n",
    "    n = δ.n\n",
    "    q = δ.q\n",
    "    δ.avg[cart2lin((i,j),n)][cart2lin((a,b),q)] += 1\n",
    "    nothing\n",
    "end"
   ]
  },
  {
   "cell_type": "code",
   "execution_count": null,
   "metadata": {},
   "outputs": [],
   "source": [
    "function compute_stat(data::Matrix{Int64}, q::Int)\n",
    "\tcount = size(data, 1)\n",
    "\tn = size(data, 2)\n",
    "\tdelta_ijab = Delta(n,q)\n",
    "\n",
    "\tfor i in 1:n, j in 1:n, a in 1:q, b in 1:q\n",
    "\t\t[(data[s, i] == a) && (data[s, j] == b) ? Delta_update!(delta_ijab,i,j,a,b) : nothing for s in 1:count]\n",
    "\tend\n",
    "\tdelta_ijab.avg /= count\n",
    "\n",
    "\treturn delta_ijab\n",
    "end;"
   ]
  },
  {
   "cell_type": "code",
   "execution_count": null,
   "metadata": {},
   "outputs": [],
   "source": [
    "function maxabs_vecvec(δ::Delta)\n",
    "\tm = δ.avg\n",
    "\tmaxx = -1\n",
    "\tfor r in m\n",
    "\t\tif maximum(abs.(m)) > maxx\n",
    "\t\t\tmaxx = maximum(abs.(m))\n",
    "\t\tend\n",
    "\tend\n",
    "\treturn maxx\n",
    "end;"
   ]
  }
 ],
 "metadata": {
  "kernelspec": {
   "display_name": "Julia 1.8.2",
   "language": "julia",
   "name": "julia-1.8"
  },
  "language_info": {
   "file_extension": ".jl",
   "mimetype": "application/julia",
   "name": "julia",
   "version": "1.8.2"
  },
  "orig_nbformat": 4
 },
 "nbformat": 4,
 "nbformat_minor": 2
}
