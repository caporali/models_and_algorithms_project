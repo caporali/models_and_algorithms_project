{
 "cells": [
  {
   "cell_type": "code",
   "execution_count": 2,
   "metadata": {},
   "outputs": [],
   "source": [
    "struct delta\n",
    "    n::Int\n",
    "    q::Int\n",
    "    avg::Vector{Vector{Float64}}\n",
    "end"
   ]
  },
  {
   "cell_type": "code",
   "execution_count": 3,
   "metadata": {},
   "outputs": [
    {
     "data": {
      "text/plain": [
       "delta"
      ]
     },
     "metadata": {},
     "output_type": "display_data"
    }
   ],
   "source": [
    "function delta(n::Int, q::Int) # Initializes correct size delta\n",
    "    delta(n,q,[zeros(Float64, q*q) for _ in 1:n*n])\n",
    "end"
   ]
  },
  {
   "cell_type": "code",
   "execution_count": 4,
   "metadata": {},
   "outputs": [
    {
     "data": {
      "text/plain": [
       "cart2lin (generic function with 1 method)"
      ]
     },
     "metadata": {},
     "output_type": "display_data"
    }
   ],
   "source": [
    "function cart2lin(t::Tuple{Int,Int}, dims::Int) # Cartesian to linear indices conversion\n",
    "    x,y = t[2], t[1]\n",
    "    @assert 1 ≤ x ≤ dims && 1 ≤ y ≤ dims\n",
    "    return y + dims*(x-1)\n",
    "end"
   ]
  },
  {
   "cell_type": "code",
   "execution_count": null,
   "metadata": {},
   "outputs": [],
   "source": [
    "function delta_update!(δ::delta,i::Int,j::Int,a::Int,b::Int) # Updates the delta structure when the condition is verified\n",
    "    n = δ.n\n",
    "    q = δ.q\n",
    "    δ.avg[cart2lin((i,j),n)][cart2lin((a,b),q)] += 1\n",
    "    nothing\n",
    "end"
   ]
  },
  {
   "cell_type": "code",
   "execution_count": null,
   "metadata": {},
   "outputs": [],
   "source": [
    "function maxabs_matmat(m::Vector{Vector{Float64}})\n",
    "\tmaxx = -1\n",
    "\tfor r in m\n",
    "\t\tif maximum(abs.(m.avg)) > maxx\n",
    "\t\t\tmaxx = maximum(abs.(m.avg))\n",
    "\t\tend\n",
    "\tend\n",
    "\treturn maxx\n",
    "end;"
   ]
  }
 ],
 "metadata": {
  "kernelspec": {
   "display_name": "Julia 1.8.2",
   "language": "julia",
   "name": "julia-1.8"
  },
  "language_info": {
   "file_extension": ".jl",
   "mimetype": "application/julia",
   "name": "julia",
   "version": "1.8.2"
  },
  "orig_nbformat": 4
 },
 "nbformat": 4,
 "nbformat_minor": 2
}
