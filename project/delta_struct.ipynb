{
 "cells": [
  {
   "cell_type": "code",
   "execution_count": 1,
   "metadata": {},
   "outputs": [],
   "source": [
    "struct Delta\n",
    "    n::Int\n",
    "    q::Int\n",
    "    avg::Vector{Vector{Float64}}\n",
    "end;"
   ]
  },
  {
   "cell_type": "code",
   "execution_count": 2,
   "metadata": {},
   "outputs": [],
   "source": [
    "# initializes correct size delta\n",
    "function Delta(n::Int, q::Int)\n",
    "    Delta(n, q, [zeros(Float64, q * q) for _ in 1:(n * n)])\n",
    "end;"
   ]
  },
  {
   "cell_type": "code",
   "execution_count": 3,
   "metadata": {},
   "outputs": [],
   "source": [
    "# cartesian to linear indices conversion\n",
    "function cart2lin(t::Tuple{Int, Int}, dims::Int)\n",
    "    x, y = t[2], t[1]\n",
    "    @assert 1 ≤ x ≤ dims && 1 ≤ y ≤ dims\n",
    "    return y + dims * (x-1)\n",
    "end;"
   ]
  },
  {
   "cell_type": "code",
   "execution_count": 4,
   "metadata": {},
   "outputs": [],
   "source": [
    "cart2lin(i::Int, j::Int, dims::Int) = cart2lin((i, j),dims);"
   ]
  },
  {
   "cell_type": "code",
   "execution_count": 5,
   "metadata": {},
   "outputs": [],
   "source": [
    "# updates the delta structure when the condition is verified\n",
    "function Delta_update!(δ::Delta, i::Int, j::Int, a::Int, b::Int)\n",
    "    n = δ.n\n",
    "    q = δ.q\n",
    "    δ.avg[cart2lin((i,j), n)][cart2lin((a,b), q)] += 1\n",
    "    nothing\n",
    "end;"
   ]
  },
  {
   "cell_type": "code",
   "execution_count": 6,
   "metadata": {},
   "outputs": [],
   "source": [
    "function compute_stat(data::Matrix{Int64}, q::Int)\n",
    "\tcount = size(data, 1)\n",
    "\tn = size(data, 2)\n",
    "\tdelta_ijab = Delta(n, q)\n",
    "\n",
    "\tfor i in 1:n, j in 1:n, a in 1:q, b in 1:q\n",
    "\t\t[Delta_update!(delta_ijab, i, j, a, b) for s in 1:count if (data[s, i] == a) && (data[s, j] == b)]\n",
    "\tend\n",
    "\tdelta_ijab.avg /= count\n",
    "\n",
    "\treturn delta_ijab\n",
    "end;"
   ]
  },
  {
   "cell_type": "code",
   "execution_count": 7,
   "metadata": {},
   "outputs": [],
   "source": [
    "function maxabs_vecvec(δ::Delta)\n",
    "\tm = δ.avg\n",
    "\tmax = -1\n",
    "\tfor r in m\n",
    "\t\tif maximum(abs.(m)) > max\n",
    "\t\t\tmax = maximum(abs.(m))\n",
    "\t\tend\n",
    "\tend\n",
    "\treturn max\n",
    "end;"
   ]
  },
  {
   "cell_type": "code",
   "execution_count": 8,
   "metadata": {},
   "outputs": [],
   "source": [
    "function metropolis_hastings_step(x::Vector{Int64}, J_struct::Delta)\n",
    "\tn = length(x)\n",
    "    J = J_struct.avg\n",
    "\tn = J_stuct.n\n",
    "\tq = J_Struct.q\n",
    "    \n",
    "\t# 1. draw uniformly an index and a new configuration\n",
    "\tk = rand(1:n)\n",
    "\tz = rand(1:q)\n",
    "\t\n",
    "\t# 2. compute the acceptance ratio\n",
    "\ta = 0\n",
    "\txk_new = mod1(x[k] + z, q)\n",
    "\tfor i in 1:n\n",
    "\t\tif i != k\n",
    "\t\t\ta += J[cart2lin(i, k, n)][cart2lin(x[i], xk_new, q)] - J[cart2lin(i, k, n)][cart2lin(x[i], x[k], q)]\n",
    "\t\tend\n",
    "\tend\n",
    "\ta *= 2\n",
    "\ta += J[cart2lin(k, k, n)][cart2lin(xk_new, xk_new, q)] - J[cart2lin(k, k, n)][cart2lin(x[k], x[k], q)]\n",
    "\ta = exp(a)\n",
    "\ta = min(1, a)\n",
    "\n",
    "\t# 3/4. decide whether to accept or not the new configuration\n",
    "\tif rand() < a\n",
    "\t\tx[k] = xk_new\n",
    "\tend\n",
    "\t\n",
    "\treturn x\n",
    "end;"
   ]
  }
 ],
 "metadata": {
  "kernelspec": {
   "display_name": "Julia 1.8.5",
   "language": "julia",
   "name": "julia-1.8"
  },
  "language_info": {
   "file_extension": ".jl",
   "mimetype": "application/julia",
   "name": "julia",
   "version": "1.8.5"
  },
  "orig_nbformat": 4
 },
 "nbformat": 4,
 "nbformat_minor": 2
}
