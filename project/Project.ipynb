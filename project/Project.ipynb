{
 "cells": [
  {
   "attachments": {},
   "cell_type": "markdown",
   "metadata": {},
   "source": [
    "Our goal is to find the set of parameters $J_{i,j}(a,b)$ for all $i,j=1,\\dots,N$, $a,b\\in\\{1,\\dots,q\\}$ that maximizes the likelyhood\n",
    "\\begin{align}\n",
    "    \\mathcal{L}\\left(\\boldsymbol{J}; \\{\\boldsymbol{x}^{(m)}\\}_{m=1}^M\\right) &= \\mathbb{P}\\left(\\{\\boldsymbol{x}^{(m)}\\}_{m=1}^M; \\boldsymbol{J}\\right)\n",
    "    = \\prod_{m=1}^{M}\\mathbb{P} \\left( \\boldsymbol{x}^{(m)}; \\boldsymbol{J}\\right) \\\\\n",
    "    & = \\prod_{m=1}^{M}\\frac{1}{Z(\\boldsymbol{J})} \\exp \\left(\\sum_{i,j=1}^N\\sum_{a,b=1}^q J_{i,j}(a,b)\\ \\delta_{x_i^{(m)},a}\\ \\delta_{x_j^{(m)},b} \\right) \\\\\n",
    "    & = \\frac{1}{Z^M} \\exp \\left( \\sum_{m=1}^M\\sum_{i,j=1}^N\\sum_{a,b=1}^q J_{i,j}(a,b)\\ \\delta_{x_i^{(m)},a}\\ \\delta_{x_j^{(m)},b} \\right)\n",
    "\\end{align},\n",
    "where\n",
    "\\begin{equation*}\n",
    "    Z(\\boldsymbol{J})=\\sum_{x_1,\\dots,x_N=1}^q \\exp \\left(\\sum_{i,j=1}^N\\sum_{a,b=1}^q J_{i,j}(a,b)\\ \\delta_{x_i^{(m)},a}\\ \\delta_{x_j^{(m)},b} \\right)\n",
    "\\end{equation*}\n",
    "is the partition function.\n",
    "To this aim, we compute the log-likelyhood and divide by $M$, getting\n",
    "\\begin{equation*}\n",
    "    l \\left(\\boldsymbol{J}; \\{\\boldsymbol{x}^{(m)}\\}_{m=1}^M\\right) = \\frac{1}{M} \\sum_{m=1}^M\\sum_{i,j=1}^N\\sum_{a,b=1}^q J_{i,j}(a,b)\\delta_{x_i^{(m)},a}\\delta_{x_j^{(m)},b} - \\log Z(\\boldsymbol{J}).\n",
    "\\end{equation*}\n",
    "\n",
    "Deriving w.r.t. $J_{i,j}(a,b)$ for fixed $i,j,a,b$ we get\n",
    "\\begin{equation*}\n",
    "    \\frac{\\partial L}{\\partial J_{i,j}(a,b)} l \\left(\\boldsymbol{J}; \\{\\boldsymbol{x}^{(m)}\\}_{m=1}^M\\right) \n",
    "    = \\frac{1}{M} \\sum_{m=1}^M \\delta_{x_i^{(m)},a}\\delta_{x_j^{(m)},b} - \\frac{1}{Z(\\boldsymbol{J})} \\frac{\\partial Z(\\boldsymbol{J})}{\\partial J_{i,j}(a,b)},\n",
    "\\end{equation*}\n",
    "where\n",
    "\\begin{equation*}\n",
    "    \\frac{\\partial Z(\\boldsymbol{J})}{\\partial J_{i,j}(a,b)} = \\sum_{x_1,\\dots,x_N=1}^q \\delta_{x_i,a}\\delta_{x_j,b} \\exp \\left(\\sum_{i,j=1}^N\\sum_{a,b=1}^q J_{i,j}(a,b)\\ \\delta_{x_i,a}\\ \\delta_{x_j,b} \\right)\n",
    "\\end{equation*}.\n",
    "\n",
    "Plugging into the previous expression, we find that\n",
    "\\begin{equation*}\n",
    "    \\frac{\\partial L}{\\partial J_{i,j}(a,b)} = \\langle \\delta_{(x_i,x_j),(a,b)} \\rangle_{\\rm{data}} - \\langle \\delta_{(x_i,x_j),(a,b)} \\rangle_{\\rm{model}}\n",
    "\\end{equation*}."
   ]
  }
 ],
 "metadata": {
  "kernelspec": {
   "display_name": "Julia 1.8.5",
   "language": "julia",
   "name": "julia-1.8"
  },
  "language_info": {
   "file_extension": ".jl",
   "mimetype": "application/julia",
   "name": "julia",
   "version": "1.8.5"
  },
  "orig_nbformat": 4
 },
 "nbformat": 4,
 "nbformat_minor": 2
}
